{
 "cells": [
  {
   "cell_type": "markdown",
   "metadata": {},
   "source": [
    "#### helping farmers identify:\n",
    "- **Beneficial insects**: bees, earthworms (protect these!)\n",
    "- **Harmful pests**: beetles, caterpillars, moths, etc. (manage these)\n",
    "- **Neutral species**: ants, wasps (context-dependent)\n",
    "#### 🎯 Quick Start Guide\n",
    "1. **Setup & Data Loading** → Run cells 1-2\n",
    "2. **Data Preparation** → Run cell 3 \n",
    "3. **Model Creation** → Run cell 4\n",
    "4. **Training** → Run cell 5 (takes 30-45 min)\n",
    "5. **Testing & Evaluation** → Run cells 6-7\n",
    "\n",
    "#### 📊 Expected Results\n",
    "- **Accuracy**: 85-95% on pest classification\n",
    "- **Model Size**: ~24MB (mobile-friendly)\n",
    "- **Classes**: 12 different pest types\n",
    "- **Deployment**: Ready for farm use\n",
    "---"
   ]
  },
  {
   "cell_type": "code",
   "execution_count": 8,
   "metadata": {
    "colab": {
     "base_uri": "https://localhost:8080/"
    },
    "collapsed": true,
    "id": "meBvbfBHSTBQ",
    "outputId": "6f18d3b5-f5f6-4a7f-9eee-98d0332e619d"
   },
   "outputs": [
    {
     "name": "stdout",
     "output_type": "stream",
     "text": [
      "📥 Downloading agricultural pest dataset...\n",
      "✅ Dataset downloaded to: C:\\Users\\zEtha\\.cache\\kagglehub\\datasets\\vencerlanz09\\agricultural-pests-image-dataset\\versions\\1\n",
      "🖥️ TensorFlow: 2.20.0-rc0\n",
      "🖥️ Running on CPU\n"
     ]
    }
   ],
   "source": [
    "# 1. Setup and Data Loading\n",
    "import kagglehub\n",
    "import os\n",
    "import tensorflow as tf\n",
    "from tensorflow.keras.applications import EfficientNetV2B0\n",
    "from tensorflow.keras.applications.efficientnet_v2 import preprocess_input\n",
    "from tensorflow.keras.layers import Dense, GlobalAveragePooling2D\n",
    "from tensorflow.keras.models import Sequential\n",
    "from tensorflow.keras.optimizers import Adam\n",
    "from tensorflow.keras.callbacks import ModelCheckpoint, EarlyStopping, ReduceLROnPlateau\n",
    "from tensorflow.keras.preprocessing.image import ImageDataGenerator\n",
    "import numpy as np\n",
    "import matplotlib.pyplot as plt\n",
    "import seaborn as sns\n",
    "from sklearn.metrics import classification_report, confusion_matrix, accuracy_score\n",
    "import warnings\n",
    "warnings.filterwarnings('ignore')\n",
    "\n",
    "# Download dataset\n",
    "print(\"📥 Downloading agricultural pest dataset...\")\n",
    "DATASET_PATH = kagglehub.dataset_download(\"vencerlanz09/agricultural-pests-image-dataset\")\n",
    "print(f\"✅ Dataset downloaded to: {DATASET_PATH}\")\n",
    "\n",
    "# Configuration\n",
    "IMG_SIZE = 224\n",
    "BATCH_SIZE = 8  # CPU optimized\n",
    "np.random.seed(42)\n",
    "tf.random.set_seed(42)\n",
    "\n",
    "print(f\"🖥️ TensorFlow: {tf.__version__}\")\n",
    "print(f\"🖥️ Running on {'GPU' if tf.config.list_physical_devices('GPU') else 'CPU'}\")"
   ]
  },
  {
   "cell_type": "markdown",
   "metadata": {},
   "source": [
    "## ✅ CPU-ONLY TENSORFLOW SETUP\n",
    "\n",
    "### **🚀 SIMPLE SOLUTION: Use CPU TensorFlow**\n",
    "No GPU drivers or CUDA complications needed!\n",
    "\n",
    "```powershell\n",
    "# Install CPU-only TensorFlow (recommended for learning)\n",
    "pip install tensorflow\n",
    "\n",
    "# Or if you already have issues, clean install:\n",
    "pip uninstall tensorflow -y\n",
    "pip install tensorflow\n",
    "```\n",
    "\n",
    "### **\udcbb CPU Training Optimizations:**\n",
    "- **Batch size**: Reduced to 8 for CPU memory efficiency  \n",
    "- **Expected time**: 1.5-2 hours (reasonable for learning)\n",
    "- **Advantages**: No driver issues, works everywhere, stable\n",
    "- **Perfect for**: Learning, development, small datasets\n",
    "\n",
    "### **🎯 CPU Training Benefits:**\n",
    "- ✅ **No setup hassles** - just install and run\n",
    "- ✅ **Stable and reliable** - no GPU driver issues  \n",
    "- ✅ **Works on any machine** - laptops, desktops, cloud\n",
    "- ✅ **Great for learning** - focus on AI concepts, not hardware\n",
    "\n",
    "### **📊 What to Expect:**\n",
    "```\n",
    "🖥️ Running on CPU\n",
    "⏱️ Training time: 1.5-2 hours\n",
    "📈 Same accuracy as GPU training\n",
    "🎓 Perfect for learning and development\n",
    "```\n",
    "\n",
    "### **\udd27 Ready to Start:**\n",
    "Just run cell 2 below - TensorFlow will automatically use your CPU and everything will work smoothly!\n",
    "---"
   ]
  },
  {
   "cell_type": "markdown",
   "metadata": {},
   "source": [
    "### 2. Data generators with optimal Train/Validation/Test split\n",
    "\n",
    "**Training Generator (70%):** \n",
    "Creates artificially varied training data to make your model robust - more data for better learning\n",
    "\n",
    "**Validation Generator (15%):** \n",
    "Provides clean, unmodified images for hyperparameter tuning during training\n",
    "\n",
    "**Test Generator (15%):**  \n",
    "Final evaluation on completely unseen data - the ultimate test of model performance"
   ]
  },
  {
   "cell_type": "code",
   "execution_count": 9,
   "metadata": {
    "colab": {
     "base_uri": "https://localhost:8080/"
    },
    "id": "1nLn83mPmJW8",
    "outputId": "60d30287-c548-488e-d085-cdf9bd83cdde"
   },
   "outputs": [
    {
     "name": "stdout",
     "output_type": "stream",
     "text": [
      "🔍 Setting up data generators with correct 70/15/15 split...\n",
      "📊 Found 12 pest classes: ['ants', 'bees', 'beetle', 'catterpillar', 'earthworms', 'earwig', 'grasshopper', 'moth', 'slug', 'snail', 'wasp', 'weevil']\n",
      "📊 Total images found: 5485\n",
      "✅ Training samples: 3839 (70.0%)\n",
      "✅ Validation samples: 823 (15.0%)\n",
      "✅ Test samples: 823 (15.0%)\n",
      "📊 Total samples: 5485\n",
      "📁 Creating split directories...\n",
      "Found 3839 images belonging to 12 classes.\n",
      "Found 823 images belonging to 12 classes.\n",
      "Found 823 images belonging to 12 classes.\n",
      "\n",
      "📈 FINAL SPLIT VERIFICATION:\n",
      "   Training: 3839 samples (70.0%) - Target: 70%\n",
      "   Validation: 823 samples (15.0%) - Target: 15%\n",
      "   Test: 823 samples (15.0%) - Target: 15%\n",
      "\n",
      "📋 Class mapping: {'ants': 0, 'bees': 1, 'beetle': 2, 'catterpillar': 3, 'earthworms': 4, 'earwig': 5, 'grasshopper': 6, 'moth': 7, 'slug': 8, 'snail': 9, 'wasp': 10, 'weevil': 11}\n",
      "\n",
      "✅ Data split completed successfully!\n"
     ]
    }
   ],
   "source": [
    "# 2. Data Preparation with Proper 70/15/15 Split\n",
    "print(\"🔍 Setting up data generators with correct 70/15/15 split...\")\n",
    "\n",
    "from sklearn.model_selection import train_test_split\n",
    "import glob\n",
    "\n",
    "# Explore dataset\n",
    "pest_classes = [d for d in os.listdir(DATASET_PATH) if os.path.isdir(os.path.join(DATASET_PATH, d))]\n",
    "NUM_CLASSES = len(pest_classes)\n",
    "print(f\"📊 Found {NUM_CLASSES} pest classes: {pest_classes}\")\n",
    "\n",
    "# Collect all image paths and labels\n",
    "all_images = []\n",
    "all_labels = []\n",
    "\n",
    "for i, class_name in enumerate(pest_classes):\n",
    "    class_path = os.path.join(DATASET_PATH, class_name)\n",
    "    images = glob.glob(os.path.join(class_path, \"*.jpg\"))\n",
    "    all_images.extend(images)\n",
    "    all_labels.extend([i] * len(images))\n",
    "\n",
    "print(f\"📊 Total images found: {len(all_images)}\")\n",
    "\n",
    "# First split: 70% train, 30% temp (for val+test)\n",
    "train_images, temp_images, train_labels, temp_labels = train_test_split(\n",
    "    all_images, all_labels, test_size=0.3, random_state=42, stratify=all_labels\n",
    ")\n",
    "\n",
    "# Second split: Split the 30% into 15% validation and 15% test\n",
    "val_images, test_images, val_labels, test_labels = train_test_split(\n",
    "    temp_images, temp_labels, test_size=0.5, random_state=42, stratify=temp_labels\n",
    ")\n",
    "\n",
    "print(f\"✅ Training samples: {len(train_images)} ({len(train_images)/len(all_images)*100:.1f}%)\")\n",
    "print(f\"✅ Validation samples: {len(val_images)} ({len(val_images)/len(all_images)*100:.1f}%)\")\n",
    "print(f\"✅ Test samples: {len(test_images)} ({len(test_images)/len(all_images)*100:.1f}%)\")\n",
    "print(f\"📊 Total samples: {len(all_images)}\")\n",
    "\n",
    "# Create temporary directories for each split\n",
    "import shutil\n",
    "import tempfile\n",
    "\n",
    "# Create temporary directory structure\n",
    "temp_dir = tempfile.mkdtemp()\n",
    "train_dir = os.path.join(temp_dir, 'train')\n",
    "val_dir = os.path.join(temp_dir, 'val') \n",
    "test_dir = os.path.join(temp_dir, 'test')\n",
    "\n",
    "# Create class subdirectories\n",
    "for split_dir in [train_dir, val_dir, test_dir]:\n",
    "    for class_name in pest_classes:\n",
    "        os.makedirs(os.path.join(split_dir, class_name), exist_ok=True)\n",
    "\n",
    "# Copy images to appropriate directories\n",
    "def copy_images_to_split(image_paths, labels, target_dir):\n",
    "    for img_path, label in zip(image_paths, labels):\n",
    "        class_name = pest_classes[label]\n",
    "        target_path = os.path.join(target_dir, class_name, os.path.basename(img_path))\n",
    "        shutil.copy2(img_path, target_path)\n",
    "\n",
    "print(\"📁 Creating split directories...\")\n",
    "copy_images_to_split(train_images, train_labels, train_dir)\n",
    "copy_images_to_split(val_images, val_labels, val_dir)\n",
    "copy_images_to_split(test_images, test_labels, test_dir)\n",
    "\n",
    "# Create data generators\n",
    "train_datagen = ImageDataGenerator(\n",
    "    preprocessing_function=preprocess_input,\n",
    "    # Augmentation parameters for training only\n",
    "    rotation_range=20,\n",
    "    width_shift_range=0.2,\n",
    "    height_shift_range=0.2,\n",
    "    zoom_range=0.2,\n",
    "    horizontal_flip=True\n",
    ")\n",
    "\n",
    "# No augmentation for validation and test\n",
    "val_test_datagen = ImageDataGenerator(\n",
    "    preprocessing_function=preprocess_input\n",
    ")\n",
    "\n",
    "# Create generators\n",
    "train_gen = train_datagen.flow_from_directory(\n",
    "    train_dir,\n",
    "    target_size=(IMG_SIZE, IMG_SIZE),\n",
    "    batch_size=BATCH_SIZE,\n",
    "    class_mode='categorical',\n",
    "    shuffle=True,\n",
    "    seed=42\n",
    ")\n",
    "\n",
    "val_gen = val_test_datagen.flow_from_directory(\n",
    "    val_dir,\n",
    "    target_size=(IMG_SIZE, IMG_SIZE),\n",
    "    batch_size=BATCH_SIZE,\n",
    "    class_mode='categorical',\n",
    "    shuffle=False,\n",
    "    seed=42\n",
    ")\n",
    "\n",
    "test_gen = val_test_datagen.flow_from_directory(\n",
    "    test_dir,\n",
    "    target_size=(IMG_SIZE, IMG_SIZE),\n",
    "    batch_size=BATCH_SIZE,\n",
    "    class_mode='categorical',\n",
    "    shuffle=False,\n",
    "    seed=42\n",
    ")\n",
    "\n",
    "# Verify the split\n",
    "total_samples = train_gen.samples + val_gen.samples + test_gen.samples\n",
    "train_pct = train_gen.samples / total_samples * 100\n",
    "val_pct = val_gen.samples / total_samples * 100\n",
    "test_pct = test_gen.samples / total_samples * 100\n",
    "\n",
    "print(f\"\\n📈 FINAL SPLIT VERIFICATION:\")\n",
    "print(f\"   Training: {train_gen.samples} samples ({train_pct:.1f}%) - Target: 70%\")\n",
    "print(f\"   Validation: {val_gen.samples} samples ({val_pct:.1f}%) - Target: 15%\")\n",
    "print(f\"   Test: {test_gen.samples} samples ({test_pct:.1f}%) - Target: 15%\")\n",
    "\n",
    "# Verify class distribution\n",
    "print(f\"\\n📋 Class mapping: {train_gen.class_indices}\")\n",
    "\n",
    "# Store temp directory path for cleanup later\n",
    "TEMP_DIR = temp_dir\n",
    "print(f\"\\n✅ Data split completed successfully!\")"
   ]
  },
  {
   "cell_type": "markdown",
   "metadata": {
    "id": "8PlaWPzXqIXO"
   },
   "source": [
    "### 3. Configure EfficientNetV2 for Agricultural Pest Classification\n",
    "\n",
    "Freeze EfficientNetV2\n",
    "- Learn to map EfficientNetV2 features to agricultural pest categories\n",
    "- Fast training (only custom layers learn)\n",
    "- Preserve ImageNet insect/animal knowledge\n",
    "\n",
    "Output Shape:\n",
    "\n",
    "batch size(images processed at once), spacial dimensions, feature channels (each is a different learned feature)"
   ]
  },
  {
   "cell_type": "code",
   "execution_count": 10,
   "metadata": {
    "colab": {
     "base_uri": "https://localhost:8080/",
     "height": 878
    },
    "id": "z1JJ8703pzrC",
    "outputId": "65df2f6c-15bc-4dfc-b8c4-6818a8b772aa"
   },
   "outputs": [
    {
     "name": "stdout",
     "output_type": "stream",
     "text": [
      "Creating EfficientNetV2-B0 model...\n",
      "\n",
      "EfficientNetV2-B0 model created with 6,084,828 parameters\n",
      "Classes: 12\n"
     ]
    },
    {
     "data": {
      "text/html": [
       "<pre style=\"white-space:pre;overflow-x:auto;line-height:normal;font-family:Menlo,'DejaVu Sans Mono',consolas,'Courier New',monospace\"><span style=\"font-weight: bold\">Model: \"sequential_1\"</span>\n",
       "</pre>\n"
      ],
      "text/plain": [
       "\u001b[1mModel: \"sequential_1\"\u001b[0m\n"
      ]
     },
     "metadata": {},
     "output_type": "display_data"
    },
    {
     "data": {
      "text/html": [
       "<pre style=\"white-space:pre;overflow-x:auto;line-height:normal;font-family:Menlo,'DejaVu Sans Mono',consolas,'Courier New',monospace\">┏━━━━━━━━━━━━━━━━━━━━━━━━━━━━━━━━━┳━━━━━━━━━━━━━━━━━━━━━━━━┳━━━━━━━━━━━━━━━┓\n",
       "┃<span style=\"font-weight: bold\"> Layer (type)                    </span>┃<span style=\"font-weight: bold\"> Output Shape           </span>┃<span style=\"font-weight: bold\">       Param # </span>┃\n",
       "┡━━━━━━━━━━━━━━━━━━━━━━━━━━━━━━━━━╇━━━━━━━━━━━━━━━━━━━━━━━━╇━━━━━━━━━━━━━━━┩\n",
       "│ efficientnetv2-b0 (<span style=\"color: #0087ff; text-decoration-color: #0087ff\">Functional</span>)  │ (<span style=\"color: #00d7ff; text-decoration-color: #00d7ff\">None</span>, <span style=\"color: #00af00; text-decoration-color: #00af00\">7</span>, <span style=\"color: #00af00; text-decoration-color: #00af00\">7</span>, <span style=\"color: #00af00; text-decoration-color: #00af00\">1280</span>)     │     <span style=\"color: #00af00; text-decoration-color: #00af00\">5,919,312</span> │\n",
       "├─────────────────────────────────┼────────────────────────┼───────────────┤\n",
       "│ global_average_pooling2d_1      │ (<span style=\"color: #00d7ff; text-decoration-color: #00d7ff\">None</span>, <span style=\"color: #00af00; text-decoration-color: #00af00\">1280</span>)           │             <span style=\"color: #00af00; text-decoration-color: #00af00\">0</span> │\n",
       "│ (<span style=\"color: #0087ff; text-decoration-color: #0087ff\">GlobalAveragePooling2D</span>)        │                        │               │\n",
       "├─────────────────────────────────┼────────────────────────┼───────────────┤\n",
       "│ dense_2 (<span style=\"color: #0087ff; text-decoration-color: #0087ff\">Dense</span>)                 │ (<span style=\"color: #00d7ff; text-decoration-color: #00d7ff\">None</span>, <span style=\"color: #00af00; text-decoration-color: #00af00\">128</span>)            │       <span style=\"color: #00af00; text-decoration-color: #00af00\">163,968</span> │\n",
       "├─────────────────────────────────┼────────────────────────┼───────────────┤\n",
       "│ dense_3 (<span style=\"color: #0087ff; text-decoration-color: #0087ff\">Dense</span>)                 │ (<span style=\"color: #00d7ff; text-decoration-color: #00d7ff\">None</span>, <span style=\"color: #00af00; text-decoration-color: #00af00\">12</span>)             │         <span style=\"color: #00af00; text-decoration-color: #00af00\">1,548</span> │\n",
       "└─────────────────────────────────┴────────────────────────┴───────────────┘\n",
       "</pre>\n"
      ],
      "text/plain": [
       "┏━━━━━━━━━━━━━━━━━━━━━━━━━━━━━━━━━┳━━━━━━━━━━━━━━━━━━━━━━━━┳━━━━━━━━━━━━━━━┓\n",
       "┃\u001b[1m \u001b[0m\u001b[1mLayer (type)                   \u001b[0m\u001b[1m \u001b[0m┃\u001b[1m \u001b[0m\u001b[1mOutput Shape          \u001b[0m\u001b[1m \u001b[0m┃\u001b[1m \u001b[0m\u001b[1m      Param #\u001b[0m\u001b[1m \u001b[0m┃\n",
       "┡━━━━━━━━━━━━━━━━━━━━━━━━━━━━━━━━━╇━━━━━━━━━━━━━━━━━━━━━━━━╇━━━━━━━━━━━━━━━┩\n",
       "│ efficientnetv2-b0 (\u001b[38;5;33mFunctional\u001b[0m)  │ (\u001b[38;5;45mNone\u001b[0m, \u001b[38;5;34m7\u001b[0m, \u001b[38;5;34m7\u001b[0m, \u001b[38;5;34m1280\u001b[0m)     │     \u001b[38;5;34m5,919,312\u001b[0m │\n",
       "├─────────────────────────────────┼────────────────────────┼───────────────┤\n",
       "│ global_average_pooling2d_1      │ (\u001b[38;5;45mNone\u001b[0m, \u001b[38;5;34m1280\u001b[0m)           │             \u001b[38;5;34m0\u001b[0m │\n",
       "│ (\u001b[38;5;33mGlobalAveragePooling2D\u001b[0m)        │                        │               │\n",
       "├─────────────────────────────────┼────────────────────────┼───────────────┤\n",
       "│ dense_2 (\u001b[38;5;33mDense\u001b[0m)                 │ (\u001b[38;5;45mNone\u001b[0m, \u001b[38;5;34m128\u001b[0m)            │       \u001b[38;5;34m163,968\u001b[0m │\n",
       "├─────────────────────────────────┼────────────────────────┼───────────────┤\n",
       "│ dense_3 (\u001b[38;5;33mDense\u001b[0m)                 │ (\u001b[38;5;45mNone\u001b[0m, \u001b[38;5;34m12\u001b[0m)             │         \u001b[38;5;34m1,548\u001b[0m │\n",
       "└─────────────────────────────────┴────────────────────────┴───────────────┘\n"
      ]
     },
     "metadata": {},
     "output_type": "display_data"
    },
    {
     "data": {
      "text/html": [
       "<pre style=\"white-space:pre;overflow-x:auto;line-height:normal;font-family:Menlo,'DejaVu Sans Mono',consolas,'Courier New',monospace\"><span style=\"font-weight: bold\"> Total params: </span><span style=\"color: #00af00; text-decoration-color: #00af00\">6,084,828</span> (23.21 MB)\n",
       "</pre>\n"
      ],
      "text/plain": [
       "\u001b[1m Total params: \u001b[0m\u001b[38;5;34m6,084,828\u001b[0m (23.21 MB)\n"
      ]
     },
     "metadata": {},
     "output_type": "display_data"
    },
    {
     "data": {
      "text/html": [
       "<pre style=\"white-space:pre;overflow-x:auto;line-height:normal;font-family:Menlo,'DejaVu Sans Mono',consolas,'Courier New',monospace\"><span style=\"font-weight: bold\"> Trainable params: </span><span style=\"color: #00af00; text-decoration-color: #00af00\">165,516</span> (646.55 KB)\n",
       "</pre>\n"
      ],
      "text/plain": [
       "\u001b[1m Trainable params: \u001b[0m\u001b[38;5;34m165,516\u001b[0m (646.55 KB)\n"
      ]
     },
     "metadata": {},
     "output_type": "display_data"
    },
    {
     "data": {
      "text/html": [
       "<pre style=\"white-space:pre;overflow-x:auto;line-height:normal;font-family:Menlo,'DejaVu Sans Mono',consolas,'Courier New',monospace\"><span style=\"font-weight: bold\"> Non-trainable params: </span><span style=\"color: #00af00; text-decoration-color: #00af00\">5,919,312</span> (22.58 MB)\n",
       "</pre>\n"
      ],
      "text/plain": [
       "\u001b[1m Non-trainable params: \u001b[0m\u001b[38;5;34m5,919,312\u001b[0m (22.58 MB)\n"
      ]
     },
     "metadata": {},
     "output_type": "display_data"
    }
   ],
   "source": [
    "# 3. Model Creation\n",
    "print(\"Creating EfficientNetV2-B0 model...\\n\")\n",
    "\n",
    "# Load pre-trained model\n",
    "base_model = EfficientNetV2B0(\n",
    "    input_shape=(IMG_SIZE, IMG_SIZE, 3),\n",
    "    include_top=False, #  excludes final classification layer (outputs class probabilities)\n",
    "    weights='imagenet'\n",
    ")\n",
    "base_model.trainable = False  # Freeze base model\n",
    "\n",
    "# Create classification layer for pests\n",
    "model = Sequential([\n",
    "    base_model,\n",
    "    GlobalAveragePooling2D(),\n",
    "    Dense(128, activation='relu'),\n",
    "    Dense(NUM_CLASSES, activation='softmax') # classification layer for pest categories\n",
    "])\n",
    "\n",
    "model.compile(\n",
    "    optimizer=Adam(learning_rate=0.001),\n",
    "    loss='categorical_crossentropy',\n",
    "    metrics=['accuracy']\n",
    ")\n",
    "\n",
    "print(f\"EfficientNetV2-B0 model created with {model.count_params():,} parameters\")\n",
    "print(f\"Classes: {NUM_CLASSES}\")\n",
    "model.summary()\n"
   ]
  },
  {
   "cell_type": "markdown",
   "metadata": {
    "id": "TTXenvP7qboW"
   },
   "source": [
    "## 4. Model Training"
   ]
  },
  {
   "cell_type": "code",
   "execution_count": 11,
   "metadata": {
    "colab": {
     "base_uri": "https://localhost:8080/"
    },
    "id": "wFS0PTqzqdV2",
    "outputId": "e069146f-6126-4a12-d12b-d73f0487ea68"
   },
   "outputs": [
    {
     "name": "stdout",
     "output_type": "stream",
     "text": [
      "🔥 Starting model training...\n",
      "🚀 Training for 4 epochs...\n",
      "Epoch 1/4\n",
      "\u001b[1m480/480\u001b[0m \u001b[32m━━━━━━━━━━━━━━━━━━━━\u001b[0m\u001b[37m\u001b[0m \u001b[1m169s\u001b[0m 329ms/step - accuracy: 0.8252 - loss: 0.5488 - val_accuracy: 0.9040 - val_loss: 0.3079 - learning_rate: 0.0010\n",
      "Epoch 2/4\n",
      "\u001b[1m480/480\u001b[0m \u001b[32m━━━━━━━━━━━━━━━━━━━━\u001b[0m\u001b[37m\u001b[0m \u001b[1m92s\u001b[0m 190ms/step - accuracy: 0.9117 - loss: 0.2870 - val_accuracy: 0.9016 - val_loss: 0.3288 - learning_rate: 0.0010\n",
      "Epoch 3/4\n",
      "\u001b[1m480/480\u001b[0m \u001b[32m━━━━━━━━━━━━━━━━━━━━\u001b[0m\u001b[37m\u001b[0m \u001b[1m76s\u001b[0m 158ms/step - accuracy: 0.9213 - loss: 0.2345 - val_accuracy: 0.8943 - val_loss: 0.3347 - learning_rate: 0.0010\n",
      "Epoch 4/4\n",
      "\u001b[1m480/480\u001b[0m \u001b[32m━━━━━━━━━━━━━━━━━━━━\u001b[0m\u001b[37m\u001b[0m \u001b[1m76s\u001b[0m 157ms/step - accuracy: 0.9474 - loss: 0.1673 - val_accuracy: 0.9016 - val_loss: 0.3103 - learning_rate: 2.0000e-04\n",
      "\n",
      "✅ Training completed!\n",
      "📊 Final Training Accuracy: 0.947\n",
      "📊 Final Validation Accuracy: 0.902\n"
     ]
    },
    {
     "data": {
      "image/png": "[encoded data removed]",
      "text/plain": [
       "<Figure size 1200x400 with 2 Axes>"
      ]
     },
     "metadata": {},
     "output_type": "display_data"
    }
   ],
   "source": [
    "# 4. Training\n",
    "print(\"🔥 Starting model training...\")\n",
    "\n",
    "# Define callbacks\n",
    "callbacks = [\n",
    "    EarlyStopping(monitor='val_accuracy', patience=3, restore_best_weights=True),\n",
    "    ReduceLROnPlateau(monitor='val_loss', factor=0.2, patience=2, min_lr=1e-7),\n",
    "    ModelCheckpoint('best_model.keras', save_best_only=True, monitor='val_accuracy')\n",
    "]\n",
    "\n",
    "# Train model\n",
    "EPOCHS = 4  # Reduced for CPU training\n",
    "print(f\"🚀 Training for {EPOCHS} epochs...\")\n",
    "\n",
    "history = model.fit(\n",
    "    train_gen,\n",
    "    epochs=EPOCHS,\n",
    "    validation_data=val_gen,\n",
    "    callbacks=callbacks,\n",
    "    verbose=1\n",
    ")\n",
    "\n",
    "# Show results\n",
    "train_acc = history.history['accuracy'][-1]\n",
    "val_acc = history.history['val_accuracy'][-1]\n",
    "print(f\"\\n✅ Training completed!\")\n",
    "print(f\"📊 Final Training Accuracy: {train_acc:.3f}\")\n",
    "print(f\"📊 Final Validation Accuracy: {val_acc:.3f}\")\n",
    "\n",
    "# Plot training history\n",
    "plt.figure(figsize=(12, 4))\n",
    "plt.subplot(1, 2, 1)\n",
    "plt.plot(history.history['accuracy'], label='Training')\n",
    "plt.plot(history.history['val_accuracy'], label='Validation')\n",
    "plt.title('Model Accuracy')\n",
    "plt.xlabel('Epoch')\n",
    "plt.ylabel('Accuracy')\n",
    "plt.legend()\n",
    "\n",
    "plt.subplot(1, 2, 2)\n",
    "plt.plot(history.history['loss'], label='Training')\n",
    "plt.plot(history.history['val_loss'], label='Validation')\n",
    "plt.title('Model Loss')\n",
    "plt.xlabel('Epoch')\n",
    "plt.ylabel('Loss')\n",
    "plt.legend()\n",
    "plt.tight_layout()\n",
    "plt.show()"
   ]
  },
  {
   "cell_type": "markdown",
   "metadata": {
    "id": "Q7uc5nV_qpPO"
   },
   "source": [
    "## 5. Model Testing & Evaluation\n",
    "\n",
    "Comprehensive evaluation of the agricultural pest classification model performance."
   ]
  },
  {
   "cell_type": "markdown",
   "metadata": {},
   "source": [
    "## Model Performance Analysis\n",
    "\n",
    "### Performance Metrics:\n",
    "- **Overall Accuracy**: How well the model performs across all classes\n",
    "- **Per-Class Performance**: Individual class recognition rates\n",
    "- **Confusion Matrix**: Visual representation of classification errors\n",
    "- **Confidence Analysis**: Model prediction certainty levels\n",
    "\n",
    "### Performance Thresholds:\n",
    "- **Excellent**: >90% accuracy\n",
    "- **Good**: 80-90% accuracy  \n",
    "- **Fair**: 70-80% accuracy\n",
    "- **Poor**: <70% accuracy"
   ]
  },
  {
   "cell_type": "code",
   "execution_count": 12,
   "metadata": {},
   "outputs": [
    {
     "name": "stdout",
     "output_type": "stream",
     "text": [
      "VALIDATION SET PERFORMANCE ANALYSIS\n",
      "==================================================\n",
      "Testing 12 pest classes\n",
      "\n",
      "Overall Performance:\n",
      "  Accuracy: 0.904 (90.4%)\n",
      "  Precision: 0.902\n",
      "  Recall: 0.904\n",
      "  F1-Score: 0.902\n",
      "\n",
      "Validation Assessment: EXCELLENT - Ready for deployment\n",
      "\n",
      "Prediction Confidence:\n",
      "  Average: 0.905 (90.5%)\n",
      "  High (>90%): 75.8%\n",
      "  Medium (70-90%): 11.8%\n",
      "  Low (<70%): 12.4%\n"
     ]
    }
   ],
   "source": [
    "# 6. Validation Set Performance Analysis\n",
    "print(\"VALIDATION SET PERFORMANCE ANALYSIS\")\n",
    "print(\"=\" * 50)\n",
    "\n",
    "# Get class names\n",
    "class_names = list(val_gen.class_indices.keys())\n",
    "print(f\"Testing {len(class_names)} pest classes\")\n",
    "\n",
    "# Generate predictions\n",
    "val_gen.reset()\n",
    "predictions = model.predict(val_gen, verbose=0)\n",
    "pred_labels = np.argmax(predictions, axis=1)\n",
    "true_labels = val_gen.classes\n",
    "\n",
    "# Calculate metrics\n",
    "from sklearn.metrics import accuracy_score, precision_recall_fscore_support\n",
    "overall_accuracy = accuracy_score(true_labels, pred_labels)\n",
    "precision, recall, f1, _ = precision_recall_fscore_support(true_labels, pred_labels, average='weighted')\n",
    "\n",
    "# Display results\n",
    "print(f\"\\nOverall Performance:\")\n",
    "print(f\"  Accuracy: {overall_accuracy:.3f} ({overall_accuracy*100:.1f}%)\")\n",
    "print(f\"  Precision: {precision:.3f}\")\n",
    "print(f\"  Recall: {recall:.3f}\")\n",
    "print(f\"  F1-Score: {f1:.3f}\")\n",
    "\n",
    "# Performance assessment\n",
    "if overall_accuracy >= 0.90:\n",
    "    status = \"EXCELLENT - Ready for deployment\"\n",
    "elif overall_accuracy >= 0.80:\n",
    "    status = \"GOOD - Proceed to final testing\"\n",
    "elif overall_accuracy >= 0.70:\n",
    "    status = \"FAIR - Consider additional training\"\n",
    "else:\n",
    "    status = \"POOR - Requires improvement\"\n",
    "\n",
    "print(f\"\\nValidation Assessment: {status}\")\n",
    "\n",
    "# Confidence analysis\n",
    "pred_probs = np.max(predictions, axis=1)\n",
    "avg_confidence = np.mean(pred_probs)\n",
    "high_conf = np.sum(pred_probs > 0.9) / len(pred_probs)\n",
    "medium_conf = np.sum((pred_probs > 0.7) & (pred_probs <= 0.9)) / len(pred_probs)\n",
    "low_conf = np.sum(pred_probs <= 0.7) / len(pred_probs)\n",
    "\n",
    "print(f\"\\nPrediction Confidence:\")\n",
    "print(f\"  Average: {avg_confidence:.3f} ({avg_confidence*100:.1f}%)\")\n",
    "print(f\"  High (>90%): {high_conf:.1%}\")\n",
    "print(f\"  Medium (70-90%): {medium_conf:.1%}\")\n",
    "print(f\"  Low (<70%): {low_conf:.1%}\")"
   ]
  },
  {
   "cell_type": "code",
   "execution_count": 13,
   "metadata": {},
   "outputs": [
    {
     "name": "stdout",
     "output_type": "stream",
     "text": [
      "\n",
      "DETAILED CLASSIFICATION ANALYSIS\n",
      "========================================\n",
      "\n",
      "Per-Class Accuracy:\n",
      "  ants: 0.987 (98.7%)\n",
      "  bees: 0.960 (96.0%)\n",
      "  beetle: 0.746 (74.6%)\n",
      "  catterpillar: 0.769 (76.9%)\n",
      "  earthworms: 0.776 (77.6%)\n",
      "  earwig: 0.754 (75.4%)\n",
      "  grasshopper: 0.889 (88.9%)\n",
      "  moth: 1.000 (100.0%)\n",
      "  slug: 0.931 (93.1%)\n",
      "  snail: 1.000 (100.0%)\n",
      "  wasp: 0.960 (96.0%)\n",
      "  weevil: 0.986 (98.6%)\n",
      "\n",
      "Best performing: moth (100.0%)\n",
      "Worst performing: beetle (74.6%)\n"
     ]
    },
    {
     "data": {
      "image/png": "[encoded data removed]",
      "text/plain": [
       "<Figure size 1200x1000 with 2 Axes>"
      ]
     },
     "metadata": {},
     "output_type": "display_data"
    },
    {
     "name": "stdout",
     "output_type": "stream",
     "text": [
      "\n",
      "Most Common Misclassifications:\n",
      "  earthworms -> catterpillar: 7 cases (14.3%)\n",
      "  earwig -> beetle: 7 cases (10.1%)\n",
      "  beetle -> weevil: 6 cases (9.5%)\n",
      "  catterpillar -> earwig: 4 cases (6.2%)\n",
      "  earthworms -> slug: 3 cases (6.1%)\n",
      "\n",
      "Classification Report:\n",
      "              precision    recall  f1-score   support\n",
      "\n",
      "        ants      0.937     0.987     0.961        75\n",
      "        bees      0.947     0.960     0.954        75\n",
      "      beetle      0.797     0.746     0.770        63\n",
      "catterpillar      0.769     0.769     0.769        65\n",
      "  earthworms      0.864     0.776     0.817        49\n",
      "      earwig      0.839     0.754     0.794        69\n",
      " grasshopper      0.914     0.889     0.901        72\n",
      "        moth      0.937     1.000     0.967        74\n",
      "        slug      0.885     0.931     0.908        58\n",
      "       snail      1.000     1.000     1.000        75\n",
      "        wasp      0.960     0.960     0.960        75\n",
      "      weevil      0.923     0.986     0.954        73\n",
      "\n",
      "    accuracy                          0.904       823\n",
      "   macro avg      0.898     0.896     0.896       823\n",
      "weighted avg      0.902     0.904     0.902       823\n",
      "\n"
     ]
    }
   ],
   "source": [
    "# 7. Detailed Classification Analysis\n",
    "print(\"\\nDETAILED CLASSIFICATION ANALYSIS\")\n",
    "print(\"=\" * 40)\n",
    "\n",
    "# Per-class performance\n",
    "print(\"\\nPer-Class Accuracy:\")\n",
    "from sklearn.metrics import confusion_matrix, classification_report\n",
    "cm = confusion_matrix(true_labels, pred_labels)\n",
    "\n",
    "class_accuracies = []\n",
    "for i, class_name in enumerate(class_names):\n",
    "    if cm[i].sum() > 0:\n",
    "        class_accuracy = cm[i, i] / cm[i].sum()\n",
    "        class_accuracies.append(class_accuracy)\n",
    "        print(f\"  {class_name}: {class_accuracy:.3f} ({class_accuracy*100:.1f}%)\")\n",
    "\n",
    "# Best and worst performing classes\n",
    "if class_accuracies:\n",
    "    best_idx = np.argmax(class_accuracies)\n",
    "    worst_idx = np.argmin(class_accuracies)\n",
    "    print(f\"\\nBest performing: {class_names[best_idx]} ({class_accuracies[best_idx]:.1%})\")\n",
    "    print(f\"Worst performing: {class_names[worst_idx]} ({class_accuracies[worst_idx]:.1%})\")\n",
    "\n",
    "# Confusion Matrix Visualization\n",
    "plt.figure(figsize=(12, 10))\n",
    "sns.heatmap(cm, annot=True, fmt='d', cmap='Blues',\n",
    "           xticklabels=class_names, yticklabels=class_names)\n",
    "plt.title(f'Agricultural Pest Classification Confusion Matrix\\nOverall Accuracy: {overall_accuracy:.1%}')\n",
    "plt.ylabel('True Class')\n",
    "plt.xlabel('Predicted Class')\n",
    "plt.xticks(rotation=45, ha='right')\n",
    "plt.yticks(rotation=0)\n",
    "plt.tight_layout()\n",
    "plt.show()\n",
    "\n",
    "# Most common misclassifications\n",
    "print(\"\\nMost Common Misclassifications:\")\n",
    "confused_pairs = []\n",
    "for i in range(len(class_names)):\n",
    "    for j in range(len(class_names)):\n",
    "        if i != j and cm[i, j] > 0:\n",
    "            confusion_rate = cm[i, j] / cm[i].sum() if cm[i].sum() > 0 else 0\n",
    "            confused_pairs.append((class_names[i], class_names[j], cm[i, j], confusion_rate))\n",
    "\n",
    "confused_pairs.sort(key=lambda x: x[3], reverse=True)\n",
    "\n",
    "for true_class, pred_class, count, rate in confused_pairs[:5]:\n",
    "    print(f\"  {true_class} -> {pred_class}: {count} cases ({rate:.1%})\")\n",
    "\n",
    "print(\"\\nClassification Report:\")\n",
    "print(classification_report(true_labels, pred_labels, target_names=class_names, digits=3))"
   ]
  },
  {
   "cell_type": "code",
   "execution_count": 14,
   "metadata": {
    "colab": {
     "base_uri": "https://localhost:8080/"
    },
    "id": "m5aGcdOuqp--",
    "outputId": "e9c411bd-f06d-4b42-960a-48593606c7d4"
   },
   "outputs": [
    {
     "name": "stdout",
     "output_type": "stream",
     "text": [
      "\n",
      "FINAL TEST SET EVALUATION\n",
      "==================================================\n",
      "Note: Test set contains completely unseen data\n",
      "\n",
      "Testing on 823 test samples...\n",
      "\n",
      "Final Test Results:\n",
      "  Test Accuracy: 0.925 (92.5%)\n",
      "  Test Precision: 0.925\n",
      "  Test Recall: 0.925\n",
      "  Test F1-Score: 0.923\n",
      "  Average Confidence: 0.913 (91.3%)\n",
      "\n",
      "Deployment Assessment:\n",
      "  Status: APPROVED - Ready for deployment\n",
      "\n",
      "Model Performance Summary:\n",
      "  Validation Accuracy: 90.4%\n",
      "  Test Accuracy: 92.5%\n",
      "  Generalization Gap: 2.1%\n",
      "  Good generalization between validation and test sets\n",
      "\n",
      "Model saved as: best_model.keras\n",
      "Evaluation complete.\n"
     ]
    }
   ],
   "source": [
    "# 8. Final Test Set Evaluation\n",
    "print(\"\\nFINAL TEST SET EVALUATION\")\n",
    "print(\"=\" * 50)\n",
    "print(\"Note: Test set contains completely unseen data\")\n",
    "\n",
    "# Evaluate on test set\n",
    "print(f\"\\nTesting on {test_gen.samples} test samples...\")\n",
    "test_gen.reset()\n",
    "test_predictions = model.predict(test_gen, verbose=0)\n",
    "test_pred_labels = np.argmax(test_predictions, axis=1)\n",
    "test_true_labels = test_gen.classes # numpy array of true labels\n",
    "\n",
    "# Calculate test metrics\n",
    "test_accuracy = accuracy_score(test_true_labels, test_pred_labels)\n",
    "test_precision, test_recall, test_f1, _ = precision_recall_fscore_support(\n",
    "    test_true_labels, test_pred_labels, average='weighted'\n",
    ")\n",
    "\n",
    "print(f\"\\nFinal Test Results:\")\n",
    "print(f\"  Test Accuracy: {test_accuracy:.3f} ({test_accuracy*100:.1f}%)\")\n",
    "print(f\"  Test Precision: {test_precision:.3f}\")\n",
    "print(f\"  Test Recall: {test_recall:.3f}\")\n",
    "print(f\"  Test F1-Score: {test_f1:.3f}\")\n",
    "\n",
    "# Test confidence analysis\n",
    "test_pred_probs = np.max(test_predictions, axis=1)\n",
    "test_avg_confidence = np.mean(test_pred_probs)\n",
    "print(f\"  Average Confidence: {test_avg_confidence:.3f} ({test_avg_confidence*100:.1f}%)\")\n",
    "\n",
    "# Deployment recommendation\n",
    "print(f\"\\nDeployment Assessment:\")\n",
    "if test_accuracy >= 0.85:\n",
    "    recommendation = \"APPROVED - Ready for deployment\"\n",
    "elif test_accuracy >= 0.75:\n",
    "    recommendation = \"CONDITIONAL - Deploy with monitoring\"\n",
    "else:\n",
    "    recommendation = \"NOT READY - Requires improvement\"\n",
    "\n",
    "print(f\"  Status: {recommendation}\")\n",
    "\n",
    "# Performance comparison\n",
    "print(f\"\\nModel Performance Summary:\")\n",
    "print(f\"  Validation Accuracy: {overall_accuracy:.1%}\")\n",
    "print(f\"  Test Accuracy: {test_accuracy:.1%}\")\n",
    "print(f\"  Generalization Gap: {abs(overall_accuracy - test_accuracy):.1%}\")\n",
    "\n",
    "if abs(overall_accuracy - test_accuracy) > 0.05:\n",
    "    print(\"  Warning: Large gap may indicate overfitting\")\n",
    "else:\n",
    "    print(\"  Good generalization between validation and test sets\")\n",
    "\n",
    "print(f\"\\nModel saved as: best_model.keras\")\n",
    "print(\"Evaluation complete.\")"
   ]
  },
  {
   "cell_type": "markdown",
   "metadata": {},
   "source": [
    "## Final Test Set Evaluation\n",
    "\n",
    "### Why Use a Separate Test Set:\n",
    "\n",
    "**Validation Set Limitations:**\n",
    "- Used during training for hyperparameter tuning\n",
    "- Model indirectly \"sees\" validation data through training iterations\n",
    "- Can lead to overly optimistic performance estimates\n",
    "\n",
    "**Test Set Benefits:**\n",
    "- Never used during training - completely unseen data\n",
    "- Unbiased evaluation - true measure of real-world performance  \n",
    "- Deployment confidence - accurate prediction of field performance\n",
    "- Overfitting detection - compares validation vs test accuracy\n",
    "\n",
    "### Data Split Strategy:\n",
    "- **Training (70%):** Learn patterns and features\n",
    "- **Validation (15%):** Monitor training and tune hyperparameters\n",
    "- **Test (15%):** Final unbiased evaluation\n",
    "\n",
    "**Important:** Run test evaluation only once at the very end to maintain unbiased results."
   ]
  },
  {
   "cell_type": "markdown",
   "metadata": {},
   "source": [
    "## 🧪 Test Your Model on New Images\n",
    "\n",
    "Use this function to test your trained model on any pest images you have in a 'photos' folder."
   ]
  },
  {
   "cell_type": "code",
   "execution_count": null,
   "metadata": {},
   "outputs": [
    {
     "name": "stdout",
     "output_type": "stream",
     "text": [
      "❌ Model not ready. Train the model first!\n",
      "🔍 Testing 3 images...\n",
      "\n",
      "❌ photo_6082189074782866962_m.jpg: Error - name 'preprocess_input' is not defined\n",
      "❌ photo_6082189074782866963_x.jpg: Error - name 'preprocess_input' is not defined\n",
      "❌ photo_6082189074782866964_y.jpg: Error - name 'preprocess_input' is not defined\n",
      "\n",
      "✅ Finished testing all images in 'photos' folder!\n"
     ]
    },
    {
     "ename": "",
     "evalue": "",
     "output_type": "error",
     "traceback": [
      "\u001b[1;31mThe Kernel crashed while executing code in the current cell or a previous cell. \n",
      "\u001b[1;31mPlease review the code in the cell(s) to identify a possible cause of the failure. \n",
      "\u001b[1;31mClick <a href='https://aka.ms/vscodeJupyterKernelCrash'>here</a> for more info. \n",
      "\u001b[1;31mView Jupyter <a href='command:jupyter.viewOutput'>log</a> for further details."
     ]
    }
   ],
   "source": [
    "# 9. Simple Pest Image Tester - Direct Execution\n",
    "from tensorflow.keras.models import load_model\n",
    "from tensorflow.keras.preprocessing import image\n",
    "from tensorflow.keras.applications.efficientnet_v2 import preprocess_input\n",
    "import os\n",
    "import numpy as np\n",
    "\n",
    "folder = 'photos'  # Change this to your folder name if different\n",
    "\n",
    "# Load model and get class names\n",
    "try:\n",
    "    model = load_model('best_model.keras')\n",
    "    class_names = list(train_gen.class_indices.keys())\n",
    "    print(\"✅ Model loaded successfully!\")\n",
    "except:\n",
    "    print(\"❌ Model not ready. Train the model first!\")\n",
    "    exit()\n",
    "\n",
    "# Check folder and get images\n",
    "if not os.path.exists(folder):\n",
    "    print(f\"❌ '{folder}' folder not found. Create it and add pest images!\")\n",
    "    exit()\n",
    "\n",
    "images = [f for f in os.listdir(folder) if f.lower().endswith(('.jpg', '.jpeg', '.png'))]\n",
    "if not images:\n",
    "    print(f\"❌ No images in '{folder}' folder!\")\n",
    "    exit()\n",
    "\n",
    "print(f\"🔍 Testing {len(images)} images...\\n\")\n",
    "\n",
    "# Test each image\n",
    "for img_name in images:\n",
    "    try:\n",
    "        # Load and predict\n",
    "        img_path = os.path.join(folder, img_name)\n",
    "        img = image.load_img(img_path, target_size=(224, 224))\n",
    "        img_array = preprocess_input(np.expand_dims(image.img_to_array(img), axis=0))\n",
    "        \n",
    "        prediction = model.predict(img_array, verbose=0)[0]\n",
    "        pest_type = class_names[np.argmax(prediction)]\n",
    "        confidence = np.max(prediction) * 100\n",
    "        \n",
    "        # Show result with photo name and identified insect\n",
    "        status = \"✅\" if confidence > 80 else \"⚠️\" if confidence > 60 else \"❓\"\n",
    "        print(f\"{status} Photo: {img_name} → Identified: {pest_type} (Confidence: {confidence:.0f}%)\")\n",
    "        \n",
    "    except Exception as e:\n",
    "        print(f\"❌ {img_name}: Error - {e}\")\n",
    "\n",
    "print(f\"\\n✅ Finished testing all images in '{folder}' folder!\")"
   ]
  }
 ],
 "metadata": {
  "accelerator": "TPU",
  "colab": {
   "gpuType": "V28",
   "provenance": []
  },
  "kernelspec": {
   "display_name": "Python 3",
   "name": "python3"
  },
  "language_info": {
   "codemirror_mode": {
    "name": "ipython",
    "version": 3
   },
   "file_extension": ".py",
   "mimetype": "text/x-python",
   "name": "python",
   "nbconvert_exporter": "python",
   "pygments_lexer": "ipython3",
   "version": "3.13.5"
  }
 },
 "nbformat": 4,
 "nbformat_minor": 0
}
